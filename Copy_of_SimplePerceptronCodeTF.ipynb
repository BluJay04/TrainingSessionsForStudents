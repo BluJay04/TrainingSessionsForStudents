{
  "nbformat": 4,
  "nbformat_minor": 0,
  "metadata": {
    "colab": {
      "provenance": [],
      "authorship_tag": "ABX9TyMmeYlQlDFdFtHmsBveOa5s",
      "include_colab_link": true
    },
    "kernelspec": {
      "name": "python3",
      "display_name": "Python 3"
    },
    "language_info": {
      "name": "python"
    }
  },
  "cells": [
    {
      "cell_type": "markdown",
      "metadata": {
        "id": "view-in-github",
        "colab_type": "text"
      },
      "source": [
        "<a href=\"https://colab.research.google.com/github/sudheepelayidom/TrainingSessionsForStudents/blob/main/Copy_of_SimplePerceptronCodeTF.ipynb\" target=\"_parent\"><img src=\"https://colab.research.google.com/assets/colab-badge.svg\" alt=\"Open In Colab\"/></a>"
      ]
    },
    {
      "cell_type": "code",
      "source": [
        "import tensorflow as tf\n",
        "import numpy as np"
      ],
      "metadata": {
        "id": "LhDQDrIa13Hg"
      },
      "execution_count": null,
      "outputs": []
    },
    {
      "cell_type": "code",
      "source": [
        "# Define the data\n",
        "X = np.array([[0, 0], [0, 1], [1, 0], [1, 1]])\n",
        "y = np.array([[0], [1], [1], [0]])\n",
        "Test_X=np.array([[0, 0], [0, 0], [0, 0], [0, 0]])"
      ],
      "metadata": {
        "id": "zT-2R4vq2Ay1"
      },
      "execution_count": null,
      "outputs": []
    },
    {
      "cell_type": "code",
      "source": [
        "# Define the model\n",
        "model = tf.keras.models.Sequential([\n",
        "    tf.keras.layers.Dense(1, activation='sigmoid', input_shape=(2,))\n",
        "])"
      ],
      "metadata": {
        "id": "gMB8XPPN2EVN",
        "colab": {
          "base_uri": "https://localhost:8080/"
        },
        "outputId": "4c2745cc-d10f-42c8-cba7-1f083520d4e1"
      },
      "execution_count": null,
      "outputs": [
        {
          "output_type": "stream",
          "name": "stderr",
          "text": [
            "/usr/local/lib/python3.11/dist-packages/keras/src/layers/core/dense.py:87: UserWarning: Do not pass an `input_shape`/`input_dim` argument to a layer. When using Sequential models, prefer using an `Input(shape)` object as the first layer in the model instead.\n",
            "  super().__init__(activity_regularizer=activity_regularizer, **kwargs)\n"
          ]
        }
      ]
    },
    {
      "cell_type": "code",
      "source": [
        "# Compile the model\n",
        "model.compile(optimizer='adam', loss='binary_crossentropy', metrics=['accuracy'])"
      ],
      "metadata": {
        "id": "TKFnnk0a14Ig"
      },
      "execution_count": null,
      "outputs": []
    },
    {
      "cell_type": "code",
      "source": [
        "# Train the model\n",
        "# try with different epochs and see accuracy improves\n",
        "model.fit(X, y, epochs=1000, verbose=0)"
      ],
      "metadata": {
        "id": "hHc53-p-2MZz",
        "colab": {
          "base_uri": "https://localhost:8080/"
        },
        "outputId": "7257c39e-2b37-4894-9d8c-4e0929b7fa58"
      },
      "execution_count": null,
      "outputs": [
        {
          "output_type": "execute_result",
          "data": {
            "text/plain": [
              "<keras.src.callbacks.history.History at 0x7ed86057ef50>"
            ]
          },
          "metadata": {},
          "execution_count": 5
        }
      ]
    },
    {
      "cell_type": "code",
      "source": [
        "# Evaluate the model\n",
        "loss, accuracy = model.evaluate(X, y)\n",
        "print(f'Test Loss: {loss:.4f}')\n",
        "print(f'Test Accuracy: {accuracy:.4f}')"
      ],
      "metadata": {
        "id": "b_FHzgDb2Ncq",
        "colab": {
          "base_uri": "https://localhost:8080/"
        },
        "outputId": "735e219d-e9ef-4da5-ba43-0f9e76ac9d4c"
      },
      "execution_count": null,
      "outputs": [
        {
          "output_type": "stream",
          "name": "stdout",
          "text": [
            "\u001b[1m1/1\u001b[0m \u001b[32m━━━━━━━━━━━━━━━━━━━━\u001b[0m\u001b[37m\u001b[0m \u001b[1m0s\u001b[0m 230ms/step - accuracy: 0.5000 - loss: 0.7033\n",
            "Test Loss: 0.7033\n",
            "Test Accuracy: 0.5000\n"
          ]
        }
      ]
    },
    {
      "cell_type": "code",
      "source": [
        "# Make predictions\n",
        "predictions = model.predict(Test_X)\n",
        "print(f'Predictions: {predictions}')"
      ],
      "metadata": {
        "id": "yHDPUOL42Tj5",
        "colab": {
          "base_uri": "https://localhost:8080/"
        },
        "outputId": "e1f77eb4-d10f-411b-9ac7-3285a3982891"
      },
      "execution_count": null,
      "outputs": [
        {
          "output_type": "stream",
          "name": "stdout",
          "text": [
            "\u001b[1m1/1\u001b[0m \u001b[32m━━━━━━━━━━━━━━━━━━━━\u001b[0m\u001b[37m\u001b[0m \u001b[1m0s\u001b[0m 60ms/step\n",
            "Predictions: [[0.57858354]\n",
            " [0.57858354]\n",
            " [0.57858354]\n",
            " [0.57858354]]\n"
          ]
        }
      ]
    }
  ]
}